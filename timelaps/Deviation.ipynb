{
 "cells": [
  {
   "cell_type": "markdown",
   "metadata": {},
   "source": [
    "# Mean and standart deviation for large array"
   ]
  },
  {
   "cell_type": "code",
   "execution_count": 1,
   "metadata": {},
   "outputs": [],
   "source": [
    "import pyopencl\n",
    "import numpy\n",
    "from pyopencl import array as cla\n",
    "from pyopencl.reduction import ReductionKernel"
   ]
  },
  {
   "cell_type": "code",
   "execution_count": 2,
   "metadata": {},
   "outputs": [
    {
     "name": "stdout",
     "output_type": "stream",
     "text": [
      "<pyopencl.Context at 0x564244d0c530 on <pyopencl.Device 'TITAN V' on 'NVIDIA CUDA' at 0x5642444c5ee0>>\n"
     ]
    }
   ],
   "source": [
    "ctx = pyopencl.create_some_context()\n",
    "queue = pyopencl.CommandQueue(ctx, properties=pyopencl.command_queue_properties.PROFILING_ENABLE)\n",
    "print(ctx)"
   ]
  },
  {
   "cell_type": "code",
   "execution_count": 3,
   "metadata": {},
   "outputs": [
    {
     "name": "stdout",
     "output_type": "stream",
     "text": [
      "5907.7095 12596.121\n"
     ]
    }
   ],
   "source": [
    "shape = (2048, 2048)\n",
    "size = numpy.prod(shape)\n",
    "data = 2**(numpy.random.random(shape).astype(\"float32\")*16)\n",
    "data_d = cla.to_device(queue, data)\n",
    "res_d = cla.zeros(queue, shape=8, dtype=\"float32\")\n",
    "print(numpy.mean(data), numpy.std(data))"
   ]
  },
  {
   "cell_type": "code",
   "execution_count": 4,
   "metadata": {},
   "outputs": [],
   "source": [
    "rk1 = ReductionKernel(ctx, dtype_out=\"float32\", neutral=0, reduce_expr=\"a+b\", map_expr=\"x[i]\", \n",
    "                      arguments=\"__global float *x\", name=\"simple_sum_kernel\", )"
   ]
  },
  {
   "cell_type": "code",
   "execution_count": 5,
   "metadata": {},
   "outputs": [],
   "source": [
    "_, evt = rk1(data_d, return_event=True, out=res_d[0])"
   ]
  },
  {
   "cell_type": "code",
   "execution_count": 6,
   "metadata": {},
   "outputs": [
    {
     "data": {
      "text/plain": [
       "0.015359999999999999"
      ]
     },
     "execution_count": 6,
     "metadata": {},
     "output_type": "execute_result"
    }
   ],
   "source": [
    "1e-6*(evt.profile.end-evt.profile.start)"
   ]
  },
  {
   "cell_type": "code",
   "execution_count": 7,
   "metadata": {},
   "outputs": [
    {
     "data": {
      "text/plain": [
       "array(5907.70996094)"
      ]
     },
     "execution_count": 7,
     "metadata": {},
     "output_type": "execute_result"
    }
   ],
   "source": [
    "res_d[0]/size"
   ]
  },
  {
   "cell_type": "code",
   "execution_count": 8,
   "metadata": {},
   "outputs": [],
   "source": [
    "arguments = (\"__global float *value\",)\n",
    "float2 = pyopencl.tools.get_or_register_dtype(\"float2\")\n",
    "map_expr = \"isfinite(value[i]) ? (float2)(value[i], 1.0f) : (float2)(0.0f, 0.0f)\"\n",
    "reduce_expr = \"a+b\"\n",
    "neutral = \"(float2)(0.0f,0.0f)\"\n",
    "#output_statement = \"value[i] = item.s0; index[i+1] = item.s1;\"\n",
    "rk2 = ReductionKernel(ctx, dtype_out=float2, neutral=neutral, reduce_expr=reduce_expr, \n",
    "                      map_expr=map_expr, \n",
    "                      arguments=arguments, \n",
    "                      name=\"counter_sum_kernel\", )"
   ]
  },
  {
   "cell_type": "code",
   "execution_count": 9,
   "metadata": {},
   "outputs": [],
   "source": [
    "res, evt = rk2(data_d, return_event=True)"
   ]
  },
  {
   "cell_type": "code",
   "execution_count": 10,
   "metadata": {},
   "outputs": [
    {
     "name": "stdout",
     "output_type": "stream",
     "text": [
      "(2.4778732e+10, 4194304.)\n",
      "4194304\n",
      "mean 5907.7095 5907.71\n"
     ]
    }
   ],
   "source": [
    "m = res.get()\n",
    "print(m)\n",
    "print(size)\n",
    "print(\"mean\", numpy.mean(data), m[\"s0\"]/m[\"s1\"])"
   ]
  },
  {
   "cell_type": "code",
   "execution_count": 11,
   "metadata": {},
   "outputs": [
    {
     "data": {
      "text/plain": [
       "4194304"
      ]
     },
     "execution_count": 11,
     "metadata": {},
     "output_type": "execute_result"
    }
   ],
   "source": [
    "size"
   ]
  },
  {
   "cell_type": "code",
   "execution_count": 12,
   "metadata": {},
   "outputs": [],
   "source": [
    "%load_ext pyopencl.ipython_ext\n"
   ]
  },
  {
   "cell_type": "code",
   "execution_count": 35,
   "metadata": {},
   "outputs": [],
   "source": [
    "%%cl_kernel\n",
    "\n",
    "kernel void mean2std(global float* value,\n",
    "                     global float2* mean,\n",
    "                     global float* delta2,\n",
    "                     int size)\n",
    "{\n",
    "    int gid = get_global_id(0);\n",
    "    if (gid>=size)\n",
    "    {\n",
    "       return;\n",
    "    }\n",
    "    float m = mean[0].s0/mean[0].s1;\n",
    "    float delta = value[gid] - m;\n",
    "    delta2[gid] = delta*delta;\n",
    "}\n",
    "\n",
    "kernel void sigmaclip(global float* value,\n",
    "                       global float2* mean,\n",
    "                       global float2* std,\n",
    "                       float cutof,                 \n",
    "                       int size)\n",
    "{\n",
    "    int gid = get_global_id(0);\n",
    "    if (gid>=size)\n",
    "    {\n",
    "       return; \n",
    "    }\n",
    "       \n",
    "    float m = mean[0].s0/mean[0].s1;\n",
    "    float s = sqrt(std[0].s0/(std[0].s1-1.0f));\n",
    "    if (fabs(value[gid]-m)>(cutof*s))\n",
    "    {\n",
    "        value[gid] = NAN;\n",
    "    }\n",
    "}"
   ]
  },
  {
   "cell_type": "code",
   "execution_count": 36,
   "metadata": {},
   "outputs": [
    {
     "name": "stdout",
     "output_type": "stream",
     "text": [
      "0.07168\n"
     ]
    }
   ],
   "source": [
    "delta2_d = cla.zeros_like(data_d)\n",
    "evt = mean2std(queue, (size,), None, data_d.data, res.data, delta2_d.data, numpy.int32(size))\n",
    "evt.wait()\n",
    "print(1e-6*(evt.profile.end-evt.profile.start))"
   ]
  },
  {
   "cell_type": "code",
   "execution_count": 37,
   "metadata": {},
   "outputs": [
    {
     "data": {
      "text/plain": [
       "array([[3.4863436e+07, 3.4627712e+07, 1.8556748e+07, ..., 2.2372484e+07,\n",
       "        3.4601048e+07, 9.6400430e+06],\n",
       "       [1.8533979e+08, 3.4759348e+07, 1.2853121e+09, ..., 3.4836780e+07,\n",
       "        3.4322756e+07, 2.7519424e+07],\n",
       "       [3.4800984e+07, 3.3533030e+09, 3.4374776e+07, ..., 2.9007504e+08,\n",
       "        3.4854928e+07, 3.3851220e+07],\n",
       "       ...,\n",
       "       [3.4446456e+07, 2.1152948e+07, 3.0446658e+07, ..., 2.1082941e+09,\n",
       "        1.9726779e+06, 3.4835512e+07],\n",
       "       [3.4315688e+07, 3.4580804e+07, 2.9846770e+07, ..., 3.3242342e+07,\n",
       "        3.9068262e+06, 6.3158227e+08],\n",
       "       [3.4709964e+07, 3.4675940e+07, 2.7183690e+08, ..., 3.4869888e+07,\n",
       "        3.4863356e+07, 3.4742696e+07]], dtype=float32)"
      ]
     },
     "execution_count": 37,
     "metadata": {},
     "output_type": "execute_result"
    }
   ],
   "source": [
    "delta2_d"
   ]
  },
  {
   "cell_type": "code",
   "execution_count": 38,
   "metadata": {},
   "outputs": [
    {
     "name": "stdout",
     "output_type": "stream",
     "text": [
      "0.012288\n",
      "(6.654778e+14, 4194304.)\n",
      "std 12596.121 12596.122809342662\n"
     ]
    }
   ],
   "source": [
    "res2, evt = rk2(delta2_d, return_event=True)\n",
    "v=res2.get()\n",
    "print(1e-6*(evt.profile.end-evt.profile.start))\n",
    "print(res2)\n",
    "std = numpy.sqrt(v[\"s0\"]/(v[\"s1\"]-1.0))\n",
    "print(\"std\", numpy.std(data), std)"
   ]
  },
  {
   "cell_type": "code",
   "execution_count": 39,
   "metadata": {},
   "outputs": [
    {
     "name": "stdout",
     "output_type": "stream",
     "text": [
      "0.07168\n"
     ]
    }
   ],
   "source": [
    "evt = sigmaclip(queue, (size,), None, data_d.data, res.data, res2.data, numpy.float32(1.0), numpy.int32(size))\n",
    "evt.wait()\n",
    "print(1e-6*(evt.profile.end-evt.profile.start))"
   ]
  },
  {
   "cell_type": "code",
   "execution_count": 40,
   "metadata": {},
   "outputs": [],
   "source": [
    "def sigma_clip_np(data, cutof=3):\n",
    "    ldata = data.copy()\n",
    "    first_size = current_size = numpy.isfinite(ldata).sum()\n",
    "    last_size = current_size+1\n",
    "\n",
    "    while last_size>current_size:\n",
    "        last_size = current_size\n",
    "        m = numpy.nanmean(ldata)\n",
    "        s = numpy.nanstd(ldata)\n",
    "        ldata[abs(ldata-m)>cutof*s] = numpy.nan\n",
    "        current_size = numpy.isfinite(ldata).sum()\n",
    "        print(current_size)\n",
    "    print(first_size, current_size)\n",
    "    return m,s\n",
    "        "
   ]
  },
  {
   "cell_type": "code",
   "execution_count": 41,
   "metadata": {},
   "outputs": [
    {
     "name": "stdout",
     "output_type": "stream",
     "text": [
      "4041051\n",
      "3894503\n",
      "3754402\n",
      "3620746\n"
     ]
    },
    {
     "name": "stderr",
     "output_type": "stream",
     "text": [
      "/mntdirect/_scisoft/users/jupyter/jupy35/lib/python3.5/site-packages/ipykernel_launcher.py:10: RuntimeWarning: invalid value encountered in greater\n",
      "  # Remove the CWD from sys.path while we load stuff.\n"
     ]
    },
    {
     "name": "stdout",
     "output_type": "stream",
     "text": [
      "3493631\n",
      "3372566\n",
      "3257552\n",
      "3148622\n",
      "3045353\n",
      "2947655\n",
      "2855471\n",
      "2768651\n",
      "2686643\n",
      "2609196\n",
      "2536440\n",
      "2468420\n",
      "2404553\n",
      "2344450\n",
      "2288517\n",
      "2236248\n",
      "2187417\n",
      "2142031\n",
      "2099872\n",
      "2060240\n",
      "2023477\n",
      "1989588\n",
      "1958134\n",
      "1928924\n",
      "1901844\n",
      "1876727\n",
      "1853340\n",
      "1831613\n",
      "1811543\n",
      "1792877\n",
      "1775451\n",
      "1759254\n",
      "1744347\n",
      "1730638\n",
      "1718002\n",
      "1706116\n",
      "1695227\n",
      "1685207\n",
      "1675996\n",
      "1667461\n",
      "1659572\n",
      "1652296\n",
      "1645592\n",
      "1639314\n",
      "1633560\n",
      "1628231\n",
      "1623180\n",
      "1618541\n",
      "1614190\n",
      "1610176\n",
      "1606521\n",
      "1603196\n",
      "1600161\n",
      "1597306\n",
      "1594681\n",
      "1592213\n",
      "1589955\n",
      "1587896\n",
      "1585990\n",
      "1584198\n",
      "1582580\n",
      "1581108\n",
      "1579687\n",
      "1578397\n",
      "1577139\n",
      "1575925\n",
      "1574763\n",
      "1573677\n",
      "1572714\n",
      "1571848\n",
      "1571013\n",
      "1570272\n",
      "1569595\n",
      "1569015\n",
      "1568480\n",
      "1567987\n",
      "1567536\n",
      "1567123\n",
      "1566719\n",
      "1566360\n",
      "1566045\n",
      "1565753\n",
      "1565534\n",
      "1565317\n",
      "1565130\n",
      "1564939\n",
      "1564754\n",
      "1564594\n",
      "1564452\n",
      "1564323\n",
      "1564184\n",
      "1564065\n",
      "1563942\n",
      "1563821\n",
      "1563715\n",
      "1563633\n",
      "1563561\n",
      "1563485\n",
      "1563425\n",
      "1563384\n",
      "1563333\n",
      "1563285\n",
      "1563242\n",
      "1563199\n",
      "1563155\n",
      "1563122\n",
      "1563078\n",
      "1563031\n",
      "1562989\n",
      "1562942\n",
      "1562890\n",
      "1562832\n",
      "1562787\n",
      "1562745\n",
      "1562701\n",
      "1562666\n",
      "1562639\n",
      "1562616\n",
      "1562590\n",
      "1562569\n",
      "1562548\n",
      "1562521\n",
      "1562491\n",
      "1562461\n",
      "1562437\n",
      "1562413\n",
      "1562389\n",
      "1562361\n",
      "1562337\n",
      "1562320\n",
      "1562307\n",
      "1562294\n",
      "1562279\n",
      "1562270\n",
      "1562264\n",
      "1562260\n",
      "1562256\n",
      "1562250\n",
      "1562249\n",
      "1562248\n",
      "1562246\n",
      "1562244\n",
      "1562242\n",
      "1562237\n",
      "1562235\n",
      "1562233\n",
      "1562232\n",
      "1562230\n",
      "1562229\n",
      "1562228\n",
      "1562227\n",
      "1562226\n",
      "1562226\n",
      "4194304 1562226\n",
      "CPU times: user 14.6 s, sys: 13.5 ms, total: 14.6 s\n",
      "Wall time: 14.5 s\n"
     ]
    },
    {
     "data": {
      "text/plain": [
       "(14.842549, 15.78905)"
      ]
     },
     "execution_count": 41,
     "metadata": {},
     "output_type": "execute_result"
    }
   ],
   "source": [
    "%%time \n",
    "sigma_clip_np(data, 3)"
   ]
  },
  {
   "cell_type": "code",
   "execution_count": 44,
   "metadata": {},
   "outputs": [],
   "source": [
    "def sigma_clip_cl(data, cutof=3):\n",
    "    data_d.set(data)\n",
    "    res, evt = rk2(data_d, return_event=True)\n",
    "    mm = res.get()\n",
    "    first_size = current_size = mm[\"s1\"]\n",
    "    last_size = current_size +1\n",
    "    while last_size>current_size:\n",
    "        evt2 = mean2std(queue, (size,), None, data_d.data, res.data, delta2_d.data, numpy.int32(size))\n",
    "        res2, evt3 = rk2(delta2_d, return_event=True, wait_for=[evt2])\n",
    "        evt4 = sigmaclip(queue, (size,), None, data_d.data, res.data, res2.data, numpy.float32(cutof), numpy.int32(size))\n",
    "        m = mm[\"s0\"]/mm[\"s1\"]\n",
    "        v = res2.get()\n",
    "        s = numpy.sqrt(v[\"s0\"]/(v[\"s1\"]-1.0))        \n",
    "        last_size = current_size\n",
    "        res, evt = rk2(data_d, return_event=True)\n",
    "        mm = res.get()\n",
    "        current_size = mm[\"s1\"]\n",
    "        print(current_size)\n",
    "\n",
    "    print(first_size, current_size)\n",
    "    return m,s"
   ]
  },
  {
   "cell_type": "code",
   "execution_count": 45,
   "metadata": {},
   "outputs": [
    {
     "name": "stdout",
     "output_type": "stream",
     "text": [
      "4041051.0\n",
      "3894503.0\n",
      "3754402.0\n",
      "3620746.0\n",
      "3493631.0\n",
      "3372565.0\n",
      "3257551.0\n",
      "3148619.0\n",
      "3045351.0\n",
      "2947653.0\n",
      "2855464.0\n",
      "2768643.0\n",
      "2686636.0\n",
      "2609189.0\n",
      "2536437.0\n",
      "2468419.0\n",
      "2404552.0\n",
      "2344450.0\n",
      "2288517.0\n",
      "2236248.0\n",
      "2187417.0\n",
      "2142031.0\n",
      "2099872.0\n",
      "2060240.0\n",
      "2023477.0\n",
      "1989588.0\n",
      "1958134.0\n",
      "1928924.0\n",
      "1901844.0\n",
      "1876728.0\n",
      "1853340.0\n",
      "1831613.0\n",
      "1811543.0\n",
      "1792877.0\n",
      "1775451.0\n",
      "1759254.0\n",
      "1744347.0\n",
      "1730638.0\n",
      "1718002.0\n",
      "1706116.0\n",
      "1695227.0\n",
      "1685207.0\n",
      "1675996.0\n",
      "1667461.0\n",
      "1659572.0\n",
      "1652296.0\n",
      "1645592.0\n",
      "1639314.0\n",
      "1633560.0\n",
      "1628231.0\n",
      "1623180.0\n",
      "1618541.0\n",
      "1614190.0\n",
      "1610176.0\n",
      "1606521.0\n",
      "1603196.0\n",
      "1600161.0\n",
      "1597306.0\n",
      "1594681.0\n",
      "1592213.0\n",
      "1589955.0\n",
      "1587896.0\n",
      "1585990.0\n",
      "1584198.0\n",
      "1582580.0\n",
      "1581108.0\n",
      "1579687.0\n",
      "1578397.0\n",
      "1577139.0\n",
      "1575925.0\n",
      "1574763.0\n",
      "1573677.0\n",
      "1572714.0\n",
      "1571848.0\n",
      "1571014.0\n",
      "1570273.0\n",
      "1569596.0\n",
      "1569016.0\n",
      "1568481.0\n",
      "1567989.0\n",
      "1567541.0\n",
      "1567126.0\n",
      "1566723.0\n",
      "1566365.0\n",
      "1566047.0\n",
      "1565755.0\n",
      "1565536.0\n",
      "1565318.0\n",
      "1565130.0\n",
      "1564939.0\n",
      "1564754.0\n",
      "1564594.0\n",
      "1564452.0\n",
      "1564323.0\n",
      "1564184.0\n",
      "1564065.0\n",
      "1563942.0\n",
      "1563821.0\n",
      "1563715.0\n",
      "1563633.0\n",
      "1563561.0\n",
      "1563486.0\n",
      "1563426.0\n",
      "1563385.0\n",
      "1563333.0\n",
      "1563285.0\n",
      "1563242.0\n",
      "1563199.0\n",
      "1563155.0\n",
      "1563122.0\n",
      "1563078.0\n",
      "1563031.0\n",
      "1562989.0\n",
      "1562943.0\n",
      "1562891.0\n",
      "1562833.0\n",
      "1562787.0\n",
      "1562745.0\n",
      "1562702.0\n",
      "1562666.0\n",
      "1562639.0\n",
      "1562616.0\n",
      "1562590.0\n",
      "1562569.0\n",
      "1562548.0\n",
      "1562521.0\n",
      "1562491.0\n",
      "1562461.0\n",
      "1562437.0\n",
      "1562413.0\n",
      "1562389.0\n",
      "1562361.0\n",
      "1562337.0\n",
      "1562320.0\n",
      "1562307.0\n",
      "1562294.0\n",
      "1562279.0\n",
      "1562270.0\n",
      "1562264.0\n",
      "1562260.0\n",
      "1562256.0\n",
      "1562250.0\n",
      "1562249.0\n",
      "1562248.0\n",
      "1562246.0\n",
      "1562244.0\n",
      "1562242.0\n",
      "1562237.0\n",
      "1562235.0\n",
      "1562233.0\n",
      "1562232.0\n",
      "1562230.0\n",
      "1562229.0\n",
      "1562228.0\n",
      "1562227.0\n",
      "1562226.0\n",
      "1562226.0\n",
      "4194304.0 1562226.0\n",
      "CPU times: user 186 ms, sys: 87.4 ms, total: 273 ms\n",
      "Wall time: 244 ms\n"
     ]
    },
    {
     "data": {
      "text/plain": [
       "(14.842546, 15.789050583389274)"
      ]
     },
     "execution_count": 45,
     "metadata": {},
     "output_type": "execute_result"
    }
   ],
   "source": [
    "%%time \n",
    "sigma_clip_cl(data, 3)"
   ]
  },
  {
   "cell_type": "code",
   "execution_count": 34,
   "metadata": {},
   "outputs": [
    {
     "data": {
      "text/plain": [
       "0"
      ]
     },
     "execution_count": 34,
     "metadata": {},
     "output_type": "execute_result"
    }
   ],
   "source": []
  },
  {
   "cell_type": "code",
   "execution_count": null,
   "metadata": {},
   "outputs": [],
   "source": []
  }
 ],
 "metadata": {
  "kernelspec": {
   "display_name": "Python 3",
   "language": "python",
   "name": "python3"
  },
  "language_info": {
   "codemirror_mode": {
    "name": "ipython",
    "version": 3
   },
   "file_extension": ".py",
   "mimetype": "text/x-python",
   "name": "python",
   "nbconvert_exporter": "python",
   "pygments_lexer": "ipython3",
   "version": "3.5.3"
  }
 },
 "nbformat": 4,
 "nbformat_minor": 2
}
